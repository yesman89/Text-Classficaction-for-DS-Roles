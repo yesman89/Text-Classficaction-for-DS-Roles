{
 "cells": [
  {
   "cell_type": "code",
   "execution_count": 1,
   "id": "6717e52c",
   "metadata": {},
   "outputs": [],
   "source": [
    "import requests\n",
    "import time\n",
    "import random\n",
    "from time import sleep\n",
    "from bs4 import BeautifulSoup\n",
    "import pandas as pd\n",
    "from selenium.webdriver.common.by import By\n",
    "from selenium import webdriver\n",
    "import time\n",
    "from selenium.webdriver.common.keys import Keys"
   ]
  },
  {
   "cell_type": "code",
   "execution_count": 2,
   "id": "31c81be8",
   "metadata": {},
   "outputs": [
    {
     "name": "stdout",
     "output_type": "stream",
     "text": [
      "https://www.indeed.com/jobs?q=Data%20Scientist&l=Boston\n"
     ]
    }
   ],
   "source": [
    "def getCurrentURL(url, job_title, location):\n",
    "    \"\"\"\n",
    "    Input:\n",
    "    \n",
    "    Output:\n",
    "    \n",
    "    \"\"\"\n",
    "    driver = webdriver.Chrome()\n",
    "    driver.get(url)\n",
    "    time.sleep(3)\n",
    "    driver.find_element(\"xpath\",'//*[@id=\"text-input-what\"]').send_keys(job_title)\n",
    "    time.sleep(5)\n",
    "    driver.find_element(\"xpath\",'//*[@id=\"text-input-where\"]').send_keys(Keys.CONTROL + \"a\")\n",
    "    time.sleep(2)\n",
    "    driver.find_element(\"xpath\",'//*[@id=\"text-input-where\"]').send_keys(Keys.DELETE)\n",
    "    time.sleep(4)\n",
    "    driver.find_element(\"xpath\",'//*[@id=\"text-input-where\"]').send_keys(location)\n",
    "    time.sleep(3)\n",
    "    driver.find_element(\"xpath\",'//*[@id=\"text-input-where\"]').send_keys(Keys.ENTER)\n",
    "    time.sleep(2)\n",
    "    try:\n",
    "        driver.find_element(\"xpath\",'//*[@id=\"jobsearch\"]/button').click()\n",
    "    except:\n",
    "        driver.find_element(\"xpath\",'//*[@id=\"whatWhereFormId\"]/div[3]/button').click()\n",
    "    current_url = driver.current_url\n",
    "\n",
    "    return current_url \n",
    "\n",
    "current_url = get_current_url('https://indeed.com/','Data Scientist',\"Boston\")\n",
    "print(current_url)"
   ]
  },
  {
   "cell_type": "code",
   "execution_count": 26,
   "id": "6c2e7c5e",
   "metadata": {},
   "outputs": [
    {
     "name": "stdout",
     "output_type": "stream",
     "text": [
      "Citizens\n",
      "Citizens\n",
      "Axcelis Technologies Inc.\n",
      "Axcelis Technologies Inc.\n",
      "John Hancock\n",
      "John Hancock\n",
      "Boston Children's Hospital\n",
      "Boston Children's Hospital\n"
     ]
    },
    {
     "ename": "KeyboardInterrupt",
     "evalue": "",
     "output_type": "error",
     "traceback": [
      "\u001b[1;31m---------------------------------------------------------------------------\u001b[0m",
      "\u001b[1;31mKeyboardInterrupt\u001b[0m                         Traceback (most recent call last)",
      "\u001b[1;32m~\\AppData\\Local\\Temp\\ipykernel_29292\\2311634919.py\u001b[0m in \u001b[0;36m<module>\u001b[1;34m\u001b[0m\n\u001b[0;32m     11\u001b[0m     \u001b[0mjob\u001b[0m\u001b[1;33m.\u001b[0m\u001b[0mlocation_once_scrolled_into_view\u001b[0m\u001b[1;33m\u001b[0m\u001b[1;33m\u001b[0m\u001b[0m\n\u001b[0;32m     12\u001b[0m     \u001b[0mjob\u001b[0m\u001b[1;33m.\u001b[0m\u001b[0mclick\u001b[0m\u001b[1;33m(\u001b[0m\u001b[1;33m)\u001b[0m\u001b[1;33m\u001b[0m\u001b[1;33m\u001b[0m\u001b[0m\n\u001b[1;32m---> 13\u001b[1;33m     \u001b[0mtime\u001b[0m\u001b[1;33m.\u001b[0m\u001b[0msleep\u001b[0m\u001b[1;33m(\u001b[0m\u001b[0mrandom\u001b[0m\u001b[1;33m.\u001b[0m\u001b[0muniform\u001b[0m\u001b[1;33m(\u001b[0m\u001b[1;36m4.6\u001b[0m\u001b[1;33m,\u001b[0m \u001b[1;36m6.9\u001b[0m\u001b[1;33m)\u001b[0m\u001b[1;33m)\u001b[0m\u001b[1;33m\u001b[0m\u001b[1;33m\u001b[0m\u001b[0m\n\u001b[0m\u001b[0;32m     14\u001b[0m \u001b[1;33m\u001b[0m\u001b[0m\n\u001b[0;32m     15\u001b[0m     \u001b[0mjob_title\u001b[0m \u001b[1;33m=\u001b[0m \u001b[0mdriver\u001b[0m\u001b[1;33m.\u001b[0m\u001b[0mfind_element\u001b[0m\u001b[1;33m(\u001b[0m\u001b[1;34m\"xpath\"\u001b[0m\u001b[1;33m,\u001b[0m\u001b[1;34m'//h2[@class=\"icl-u-xs-mb--xs icl-u-xs-mt--none jobsearch-JobInfoHeader-title is-embedded\"]'\u001b[0m\u001b[1;33m)\u001b[0m\u001b[1;33m.\u001b[0m\u001b[0mtext\u001b[0m\u001b[1;33m.\u001b[0m\u001b[0mstrip\u001b[0m\u001b[1;33m(\u001b[0m\u001b[1;33m)\u001b[0m\u001b[1;33m\u001b[0m\u001b[1;33m\u001b[0m\u001b[0m\n",
      "\u001b[1;31mKeyboardInterrupt\u001b[0m: "
     ]
    }
   ],
   "source": [
    "def getJobData(current_url, pages):\n",
    "    \"\"\"\n",
    "    Input:\n",
    "    \n",
    "    Output:\n",
    "    \n",
    "    \"\"\"\n",
    "    for n in range(pages)\n",
    "        new_url = current_url + '&start=' + str(n)\n",
    "        driver = webdriver.Chrome()\n",
    "        driver.get(new_url)\n",
    "\n",
    "        jobs = driver.find_elements(\"xpath\",'//div[@class=\"css-1m4cuuf e37uo190\"]')\n",
    "\n",
    "        job_data = []\n",
    "\n",
    "        for job in jobs:\n",
    "            job.location_once_scrolled_into_view\n",
    "            job.click()\n",
    "            time.sleep(random.uniform(4.6, 6.9))\n",
    "\n",
    "            job_title = driver.find_element(\"xpath\",'//h2[@class=\"icl-u-xs-mb--xs icl-u-xs-mt--none jobsearch-JobInfoHeader-title is-embedded\"]').text.strip()\n",
    "            title = job_title.split('/n')\n",
    "\n",
    "            comp = driver.find_element(\"xpath\",'//div[@class=\"css-1cjkto6 eu4oa1w0\"]/a').get_attribute(\"text\")\n",
    "            company = comp.split('/n')\n",
    "            loc = driver.find_element(\"xpath\",'//div[@class=\"css-6z8o9s eu4oa1w0\"]').text.strip()\n",
    "            location = loc.split('/n')\n",
    "\n",
    "\n",
    "            job_descr = driver.find_element(\"xpath\",'//div[@id=\"jobDescriptionText\"]').text.strip()\n",
    "\n",
    "            print(company[0])\n",
    "            data = {'Job_Title': title[0], 'Company': company[0], 'Location': location[0], 'Job_Description': job_descr}\n",
    "\n",
    "            job_data.append(data)\n",
    "\n",
    "\n",
    "    return pd.DataFrame(job_data) "
   ]
  },
  {
   "cell_type": "code",
   "execution_count": null,
   "id": "2e7ad32b",
   "metadata": {},
   "outputs": [],
   "source": [
    "# Need to get 10 different cities data frames and search for 4 different data science title at each. \n",
    "#Then traverse through 4 pages wth 15 jobs each\n",
    "# We will hopefully get 2400 total jobs from 10 different cities searching for 4 different job title and each job title\n",
    "# with have traversed throu 4 pages with 15 jobs each.\n",
    "getCurrentURL(url, job_title, location)\n",
    "getJobData(current_url, pages)"
   ]
  },
  {
   "cell_type": "code",
   "execution_count": null,
   "id": "accb7731",
   "metadata": {},
   "outputs": [],
   "source": [
    "import pandas as pd"
   ]
  }
 ],
 "metadata": {
  "kernelspec": {
   "display_name": "Python 3 (ipykernel)",
   "language": "python",
   "name": "python3"
  },
  "language_info": {
   "codemirror_mode": {
    "name": "ipython",
    "version": 3
   },
   "file_extension": ".py",
   "mimetype": "text/x-python",
   "name": "python",
   "nbconvert_exporter": "python",
   "pygments_lexer": "ipython3",
   "version": "3.8.13"
  }
 },
 "nbformat": 4,
 "nbformat_minor": 5
}
