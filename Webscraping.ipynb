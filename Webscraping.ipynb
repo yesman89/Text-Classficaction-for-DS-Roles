{
 "cells": [
  {
   "cell_type": "code",
   "execution_count": 3,
   "id": "6717e52c",
   "metadata": {},
   "outputs": [],
   "source": [
    "import requests\n",
    "import time\n",
    "from time import sleep\n",
    "from bs4 import BeautifulSoup\n",
    "import pandas as pd\n",
    "from selenium import webdriver\n",
    "import time\n",
    "from selenium.webdriver.common.keys import Keys"
   ]
  },
  {
   "cell_type": "code",
   "execution_count": 4,
   "id": "31c81be8",
   "metadata": {},
   "outputs": [
    {
     "name": "stdout",
     "output_type": "stream",
     "text": [
      "https://www.indeed.com/jobs?q=Data%20Scientist&l=Boston\n"
     ]
    }
   ],
   "source": [
    "def get_current_url(url, job_title, location):\n",
    "    driver = webdriver.Chrome()\n",
    "    driver.get(url)\n",
    "    time.sleep(3)\n",
    "    driver.find_element(\"xpath\",'//*[@id=\"text-input-what\"]').send_keys(job_title)\n",
    "    time.sleep(5)\n",
    "    driver.find_element(\"xpath\",'//*[@id=\"text-input-where\"]').send_keys(Keys.CONTROL + \"a\")\n",
    "    time.sleep(2)\n",
    "    driver.find_element(\"xpath\",'//*[@id=\"text-input-where\"]').send_keys(Keys.DELETE)\n",
    "    time.sleep(4)\n",
    "    driver.find_element(\"xpath\",'//*[@id=\"text-input-where\"]').send_keys(location)\n",
    "    time.sleep(3)\n",
    "    driver.find_element(\"xpath\",'//*[@id=\"text-input-where\"]').send_keys(Keys.ENTER)\n",
    "    time.sleep(2)\n",
    "    try:\n",
    "        driver.find_element(\"xpath\",'//*[@id=\"jobsearch\"]/button').click()\n",
    "    except:\n",
    "        driver.find_element(\"xpath\",'//*[@id=\"whatWhereFormId\"]/div[3]/button').click()\n",
    "    current_url = driver.current_url\n",
    "\n",
    "    return current_url \n",
    "\n",
    "current_url = get_current_url('https://indeed.com/','Data Scientist',\"Boston\")\n",
    "print(current_url)"
   ]
  },
  {
   "cell_type": "code",
   "execution_count": null,
   "id": "e3c730b1",
   "metadata": {},
   "outputs": [],
   "source": [
    "https://www.youtube.com/watch?v=QOtjZHYnopk"
   ]
  },
  {
   "cell_type": "code",
   "execution_count": null,
   "id": "84fa92ec",
   "metadata": {},
   "outputs": [],
   "source": [
    "<div class=\"css-1m4cuuf e37uo190\"><h2 class=\"jobTitle jobTitle-newJob css-bdjp2m eu4oa1w0\" tabindex=\"-1\"><a id=\"job_de598bdd1e04fc4f\" data-mobtk=\"1gr4u6kuljcal800\" data-jk=\"de598bdd1e04fc4f\" data-hiring-event=\"false\" target=\"_blank\" data-hide-spinner=\"true\" role=\"button\" aria-label=\"full details of RESEARCH DATA SCIENTIST, College of Arts and Sciences, Psychological &amp; Brain Sciences\" class=\"jcs-JobTitle css-jspxzf eu4oa1w0\" href=\"/rc/clk?jk=de598bdd1e04fc4f&amp;fccid=2e7c6e6217aa02b5&amp;vjs=3\"><span title=\"RESEARCH DATA SCIENTIST, College of Arts and Sciences, Psychological &amp; Brain Sciences\" id=\"jobTitle-de598bdd1e04fc4f\">RESEARCH DATA SCIENTIST, College of Arts and Sciences, Psychological &amp; Brain Sciences</span></a></h2><div class=\"new css-ud6i3y eu4oa1w0\"><span class=\"label css-1qj35nq eu4oa1w0\">new</span></div></div>"
   ]
  },
  {
   "cell_type": "code",
   "execution_count": null,
   "id": "fb0aec28",
   "metadata": {},
   "outputs": [],
   "source": [
    "<div id=\"jobDescriptionText\" class=\"jobsearch-jobDescriptionText\" dir=\"ltr\"><div>\n",
    " <p>The Research Data Scientist position involves playing several distinct roles, including software programmer, research analyst, and lab IT. The ideal candidate will be able to balance these responsibilities efficiently and communicate clearly while working closely with others in the lab. As a programmer the position will require creation and maintenance of analysis packages within the lab, maintenance of standardized data flows and managing databases of experimental data. As an analyst the position will require working on digital signal analysis, data visualization, statistical testing, and presenting results for peer review.</p>\n",
    " <br> Required Skills\n",
    " <br> \n",
    " <ul> \n",
    "  <li> Bachelor's degree and one to three years of experience required.</li>\n",
    " </ul>\n",
    " <br> \n",
    " <p></p> \n",
    " <p><i> Please note all newly hired staff and faculty will need to be in compliance with Boston University’s COVID-19 Vaccination and Booster </i><i>Requirement</i><i> within 30 days of date of hire. You must upload your vaccine documentation or request a medical or religious exemption (</i><i>instructions</i><i>). For further information on the University’s response to COVID-19, please visit the </i><i>COVID-19 Resources</i><i> site.</i></p>\n",
    " <br> \n",
    " <p></p> \n",
    " <p><i> We are an equal opportunity employer, and all qualified applicants will receive consideration for employment without regard to race, color, religion, sex, age, national origin, physical or mental disability, sexual orientation, gender identity, genetic information, military service, pregnancy or pregnancy-related condition, or because of marital, parental, or veteran status. We are a VEVRAA Federal Contractor.</i></p>\n",
    " <br> Required Experience\n",
    "</div></div>"
   ]
  },
  {
   "cell_type": "code",
   "execution_count": null,
   "id": "f4e94549",
   "metadata": {},
   "outputs": [],
   "source": [
    "https://www.indeed.com/jobs?q=Data%20Scientist&l=Boston&start=1"
   ]
  },
  {
   "cell_type": "code",
   "execution_count": 2,
   "id": "6c2e7c5e",
   "metadata": {},
   "outputs": [
    {
     "data": {
      "text/plain": [
       "'https://www.indeed.com/jobs?q=Data%20Scientist&l=Boston&start=0'"
      ]
     },
     "execution_count": 2,
     "metadata": {},
     "output_type": "execute_result"
    }
   ],
   "source": [
    "n = 0\n",
    "new_url = 'https://www.indeed.com/jobs?q=Data%20Scientist&l=Boston' + '&start=' + str(n)\n",
    "\n",
    "driver.get(new_url)\n",
    "\n",
    "jobs = driver.find_element(\"xpath\",'//div[@class=\"css-1m4cuuf e37uo190\"]')\n",
    "\n",
    "\n",
    "for job in jobs:\n",
    "    job.location_once_scrolled_into_view\n",
    "    job.click()\n",
    "    time.sleep(random.uniform(4.6, 6.9))\n",
    "    \n",
    "    job_title = driver.find_element(\"xpath\",'//h1[@class=\"css-1m4cuuf e37uo190\"]')\n",
    "    title = job_title.split('/n')\n",
    "    comp = driver.find_element(\"xpath\",'//div[@class=\"css-1m4cuuf e37uo190\"]')\n",
    "    company = comp.split('/n')\n",
    "    loc = driver.find_element(\"xpath\",'//div[@class=\"css-1m4cuuf e37uo190\"]').text.strip"
   ]
  },
  {
   "cell_type": "code",
   "execution_count": null,
   "id": "45a8cc37",
   "metadata": {},
   "outputs": [],
   "source": []
  },
  {
   "cell_type": "code",
   "execution_count": 8,
   "id": "21801146",
   "metadata": {},
   "outputs": [
    {
     "data": {
      "text/html": [
       "<div>\n",
       "<style scoped>\n",
       "    .dataframe tbody tr th:only-of-type {\n",
       "        vertical-align: middle;\n",
       "    }\n",
       "\n",
       "    .dataframe tbody tr th {\n",
       "        vertical-align: top;\n",
       "    }\n",
       "\n",
       "    .dataframe thead th {\n",
       "        text-align: right;\n",
       "    }\n",
       "</style>\n",
       "<table border=\"1\" class=\"dataframe\">\n",
       "  <thead>\n",
       "    <tr style=\"text-align: right;\">\n",
       "      <th></th>\n",
       "    </tr>\n",
       "  </thead>\n",
       "  <tbody>\n",
       "  </tbody>\n",
       "</table>\n",
       "</div>"
      ],
      "text/plain": [
       "Empty DataFrame\n",
       "Columns: []\n",
       "Index: []"
      ]
     },
     "execution_count": 8,
     "metadata": {},
     "output_type": "execute_result"
    }
   ],
   "source": [
    "def scrape_job_details(url):\n",
    "    \n",
    "    resp = requests.get(url)\n",
    "    content = BeautifulSoup(resp.content, 'lxml')\n",
    "   \n",
    "    jobs_list = []    \n",
    "    for post in content.select('.job_seen_beacon'):\n",
    "        try:\n",
    "            data = {\n",
    "                \"job_title\":post.select('.jobTitle')[0].get_text().strip(),\n",
    "                \"company\":post.select('.companyName')[0].get_text().strip(),\n",
    "                \"rating\":post.select('.ratingNumber')[0].get_text().strip(),\n",
    "                \"location\":post.select('.companyLocation')[0].get_text().strip(),\n",
    "                \"date\":post.select('.date')[0].get_text().strip(),\n",
    "                \"job_desc\":post.select('.job-snippet')[0].get_text().strip()\n",
    "                \n",
    "            }\n",
    "        except IndexError:\n",
    "            continue          \n",
    "        jobs_list.append(data)\n",
    "    dataframe = pd.DataFrame(jobs_list)\n",
    "    \n",
    "    return dataframe\n",
    "\n",
    "scrape_job_details(current_url)"
   ]
  }
 ],
 "metadata": {
  "kernelspec": {
   "display_name": "Python 3 (ipykernel)",
   "language": "python",
   "name": "python3"
  },
  "language_info": {
   "codemirror_mode": {
    "name": "ipython",
    "version": 3
   },
   "file_extension": ".py",
   "mimetype": "text/x-python",
   "name": "python",
   "nbconvert_exporter": "python",
   "pygments_lexer": "ipython3",
   "version": "3.8.13"
  }
 },
 "nbformat": 4,
 "nbformat_minor": 5
}
